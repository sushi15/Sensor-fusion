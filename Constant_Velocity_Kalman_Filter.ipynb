{
  "nbformat": 4,
  "nbformat_minor": 0,
  "metadata": {
    "colab": {
      "name": "Constant Velocity Kalman Filter.ipynb",
      "provenance": [],
      "collapsed_sections": [],
      "authorship_tag": "ABX9TyPMjlq7nOXcryHiIwQ5Qjou"
    },
    "kernelspec": {
      "name": "python3",
      "display_name": "Python 3"
    },
    "language_info": {
      "name": "python"
    }
  },
  "cells": [
    {
      "cell_type": "markdown",
      "metadata": {
        "id": "h90wXDaA3HLW"
      },
      "source": [
        "# Imports"
      ]
    },
    {
      "cell_type": "code",
      "metadata": {
        "id": "nlZZdFmb2mUj"
      },
      "source": [
        "import numpy as np\n",
        "%matplotlib inline\n",
        "import matplotlib.pyplot as plt\n",
        "from scipy.stats import norm"
      ],
      "execution_count": null,
      "outputs": []
    },
    {
      "cell_type": "markdown",
      "metadata": {
        "id": "YTComA_SZRLN"
      },
      "source": [
        "# Required matrix definitions (state vectors)"
      ]
    },
    {
      "cell_type": "markdown",
      "metadata": {
        "id": "S0b1IQsr3c3u"
      },
      "source": [
        "Initial State : x0 (x-coordinate, y-coordinate, speed in x, speed in y) \n",
        "\n",
        "For k > 1 : xk = A . x(k - 1)"
      ]
    },
    {
      "cell_type": "code",
      "metadata": {
        "id": "QG299_1n214F"
      },
      "source": [
        "x = np.matrix([[5.7, 6.1, 2.5, 3.4]]).T\n",
        "print(x, x.shape)\n",
        "#plt.scatter(float(x[0]),float(x[1]), s=100)\n",
        "#plt.title('Initial Location')"
      ],
      "execution_count": null,
      "outputs": []
    },
    {
      "cell_type": "markdown",
      "metadata": {
        "id": "8bUHpuVb3pWQ"
      },
      "source": [
        "Initial Uncertainty : P0 (diagonal values = standard deviation squared in same order as in x0)"
      ]
    },
    {
      "cell_type": "code",
      "metadata": {
        "id": "06lgJF6r3TN0"
      },
      "source": [
        "P = np.diag([1000.0, 1000.0, 1000.0, 1000.0])\n",
        "print(P, P.shape)"
      ],
      "execution_count": null,
      "outputs": []
    },
    {
      "cell_type": "code",
      "metadata": {
        "id": "GzPhoHSo3xCP"
      },
      "source": [
        "fig = plt.figure(figsize=(6, 6))\n",
        "im = plt.imshow(P, interpolation=\"none\", cmap=plt.get_cmap('binary'))\n",
        "plt.title('Initial Covariance Matrix $P$')\n",
        "ylocs, ylabels = plt.yticks()\n",
        "# set the locations of the yticks\n",
        "plt.yticks(np.arange(7))\n",
        "# set the locations and labels of the yticks\n",
        "plt.yticks(np.arange(6),('$x$', '$y$', '$\\dot x$', '$\\dot y$'), fontsize=22)\n",
        "\n",
        "xlocs, xlabels = plt.xticks()\n",
        "# set the locations of the yticks\n",
        "plt.xticks(np.arange(7))\n",
        "# set the locations and labels of the yticks\n",
        "plt.xticks(np.arange(6),('$x$', '$y$', '$\\dot x$', '$\\dot y$'), fontsize=22)\n",
        "\n",
        "plt.xlim([-0.5,3.5])\n",
        "plt.ylim([3.5, -0.5])\n",
        "\n",
        "from mpl_toolkits.axes_grid1 import make_axes_locatable\n",
        "divider = make_axes_locatable(plt.gca())\n",
        "cax = divider.append_axes(\"right\", \"5%\", pad=\"3%\")\n",
        "plt.colorbar(im, cax=cax);"
      ],
      "execution_count": null,
      "outputs": []
    },
    {
      "cell_type": "markdown",
      "metadata": {
        "id": "BNk9Su7H45rw"
      },
      "source": [
        "A (dynamic matrix)"
      ]
    },
    {
      "cell_type": "code",
      "metadata": {
        "id": "0KHcacCw30oQ"
      },
      "source": [
        "dt = 0.1 # Time Step between Filter Steps\n",
        "\n",
        "A = np.matrix([[1.0, 0.0, dt, 0.0],\n",
        "              [0.0, 1.0, 0.0, dt],\n",
        "              [0.0, 0.0, 1.0, 0.0],\n",
        "              [0.0, 0.0, 0.0, 1.0]])\n",
        "print(A, A.shape)"
      ],
      "execution_count": null,
      "outputs": []
    },
    {
      "cell_type": "markdown",
      "metadata": {
        "id": "jG45nLmw5Jjl"
      },
      "source": [
        "H (measurement matrix) : only for measuring speeds in both axes"
      ]
    },
    {
      "cell_type": "code",
      "metadata": {
        "id": "M2mqNSKl44rA"
      },
      "source": [
        "H = np.matrix([[0.0, 0.0, 1.0, 0.0],\n",
        "              [0.0, 0.0, 0.0, 1.0]])\n",
        "print(H, H.shape)"
      ],
      "execution_count": null,
      "outputs": []
    },
    {
      "cell_type": "markdown",
      "metadata": {
        "id": "V50svDoH5YNg"
      },
      "source": [
        "R (measurement noise covariance) : standard deviation squared for speeds in both axes"
      ]
    },
    {
      "cell_type": "code",
      "metadata": {
        "id": "cP_ZnXwO5NlB"
      },
      "source": [
        "ra = 10.0**2\n",
        "\n",
        "R = np.matrix([[ra, 0.0],\n",
        "              [0.0, ra]])\n",
        "print(R, R.shape)"
      ],
      "execution_count": null,
      "outputs": []
    },
    {
      "cell_type": "markdown",
      "metadata": {
        "id": "qPUEiJJF5qvI"
      },
      "source": [
        "Q (process noise covariance)\n",
        "\n",
        "In the constant velocity model, acceleration must be 0, but factors like wind may influence the movement of the rover and cause acceleration disturbance (noise). Cross correlation is not assumed to be true (force acting along y axis will not influence acceleration in x axis and vice versa). "
      ]
    },
    {
      "cell_type": "code",
      "metadata": {
        "id": "XhikEcXo5ijM"
      },
      "source": [
        "from sympy import Symbol, Matrix\n",
        "from sympy.interactive import printing\n",
        "printing.init_printing()\n",
        "dts = Symbol('\\Delta t')\n",
        "\n",
        "As = Matrix([[1, 0, dts, 0],\n",
        "             [0, 1, 0, dts],\n",
        "             [0, 0, 1, 0],\n",
        "             [0, 0, 0, 1]])\n",
        "# this\n",
        "Gs = Matrix([dts**2/2, dts]) \n",
        "Gs"
      ],
      "execution_count": null,
      "outputs": []
    },
    {
      "cell_type": "code",
      "metadata": {
        "id": "dfS_Xnk76QCS"
      },
      "source": [
        "Gs*Gs.T"
      ],
      "execution_count": null,
      "outputs": []
    },
    {
      "cell_type": "code",
      "metadata": {
        "id": "55VUyBRP6UPL"
      },
      "source": [
        "sv = 8.8\n",
        "\n",
        "Q = np.matrix([[(dt**4)/4, 0, (dt**3)/2, 0],\n",
        "               [0, (dt**4)/4, 0, (dt**3)/2],\n",
        "               [(dt**3)/2, 0, dt**2, 0],\n",
        "               [0, (dt**3)/2, 0, dt**2]]) * sv**2"
      ],
      "execution_count": null,
      "outputs": []
    },
    {
      "cell_type": "code",
      "metadata": {
        "id": "cDJaIzzm6VyB"
      },
      "source": [
        "fig = plt.figure(figsize=(6, 6))\n",
        "im = plt.imshow(Q, interpolation=\"none\", cmap=plt.get_cmap('binary'))\n",
        "plt.title('Process Noise Covariance Matrix $Q$')\n",
        "ylocs, ylabels = plt.yticks()\n",
        "# set the locations of the yticks\n",
        "plt.yticks(np.arange(7))\n",
        "# set the locations and labels of the yticks\n",
        "plt.yticks(np.arange(6),('$x$', '$y$', '$\\dot x$', '$\\dot y$'), fontsize=22)\n",
        "\n",
        "xlocs, xlabels = plt.xticks()\n",
        "# set the locations of the yticks\n",
        "plt.xticks(np.arange(7))\n",
        "# set the locations and labels of the yticks\n",
        "plt.xticks(np.arange(6),('$x$', '$y$', '$\\dot x$', '$\\dot y$'), fontsize=22)\n",
        "\n",
        "plt.xlim([-0.5,3.5])\n",
        "plt.ylim([3.5, -0.5])\n",
        "\n",
        "from mpl_toolkits.axes_grid1 import make_axes_locatable\n",
        "divider = make_axes_locatable(plt.gca())\n",
        "cax = divider.append_axes(\"right\", \"5%\", pad=\"3%\")\n",
        "plt.colorbar(im, cax=cax);"
      ],
      "execution_count": null,
      "outputs": []
    },
    {
      "cell_type": "markdown",
      "metadata": {
        "id": "SdKQD_Iz6qBT"
      },
      "source": [
        "I"
      ]
    },
    {
      "cell_type": "code",
      "metadata": {
        "id": "ci5YGFAc6bEH"
      },
      "source": [
        "I = np.eye(4)\n",
        "print(I, I.shape)"
      ],
      "execution_count": null,
      "outputs": []
    },
    {
      "cell_type": "markdown",
      "metadata": {
        "id": "Uc78ZjmV6vFD"
      },
      "source": [
        "## Measurements"
      ]
    },
    {
      "cell_type": "code",
      "metadata": {
        "id": "ixpvyroH6qww"
      },
      "source": [
        "# Using randomly generated values \n",
        "# For the rover we will need to use the IMU/encoder readings in matrix measurements \n",
        "# We will also need the last known position from GPS right before it stopped \n",
        "# transmitting data, along with the IMU readings then \n",
        "\n",
        "m = 200 # Measurements\n",
        "vx= 20 # in X\n",
        "vy= 10 # in Y\n",
        "\n",
        "mx = np.array(vx+np.random.randn(m))\n",
        "my = np.array(vy+np.random.randn(m))\n",
        "\n",
        "measurements = np.vstack((mx,my))\n",
        "\n",
        "print(measurements.shape)\n",
        "\n",
        "print('Standard Deviation of Acceleration Measurements=%.2f' % np.std(mx))\n",
        "print('You assumed %.2f in R.' % R[0,0])"
      ],
      "execution_count": null,
      "outputs": []
    },
    {
      "cell_type": "code",
      "metadata": {
        "id": "W_x-X1T36xcY"
      },
      "source": [
        "fig = plt.figure(figsize=(16,5))\n",
        "\n",
        "plt.step(range(m),mx, label='$\\dot x$')\n",
        "plt.step(range(m),my, label='$\\dot y$')\n",
        "plt.ylabel(r'Velocity $m/s$')\n",
        "plt.title('Measurements')\n",
        "plt.legend(loc='best',prop={'size':18})"
      ],
      "execution_count": null,
      "outputs": []
    },
    {
      "cell_type": "code",
      "metadata": {
        "id": "LsAMxGaa7BlY"
      },
      "source": [
        "# Preallocation for Plotting\n",
        "xt = []\n",
        "yt = []\n",
        "dxt= []\n",
        "dyt= []\n",
        "Zx = []\n",
        "Zy = []\n",
        "Px = []\n",
        "Py = []\n",
        "Pdx= []\n",
        "Pdy= []\n",
        "Rdx= []\n",
        "Rdy= []\n",
        "Kx = []\n",
        "Ky = []\n",
        "Kdx= []\n",
        "Kdy= []\n",
        "\n",
        "def savestates(x, Z, P, R, K):\n",
        "    xt.append(float(x[0]))\n",
        "    yt.append(float(x[1]))\n",
        "    dxt.append(float(x[2]))\n",
        "    dyt.append(float(x[3]))\n",
        "    Zx.append(float(Z[0]))\n",
        "    Zy.append(float(Z[1]))\n",
        "    Px.append(float(P[0,0]))\n",
        "    Py.append(float(P[1,1]))\n",
        "    Pdx.append(float(P[2,2]))\n",
        "    Pdy.append(float(P[3,3]))\n",
        "    Rdx.append(float(R[0,0]))\n",
        "    Rdy.append(float(R[1,1]))\n",
        "    Kx.append(float(K[0,0]))\n",
        "    Ky.append(float(K[1,0]))\n",
        "    Kdx.append(float(K[2,0]))\n",
        "    Kdy.append(float(K[3,0]))"
      ],
      "execution_count": null,
      "outputs": []
    },
    {
      "cell_type": "markdown",
      "metadata": {
        "id": "oHfW_zG27li1"
      },
      "source": [
        "# Filter"
      ]
    },
    {
      "cell_type": "markdown",
      "metadata": {
        "id": "8JfMA6RT7yJo"
      },
      "source": [
        "x(k + 1) = A . xk \n",
        "\n",
        "P(k + 1) = A . Pk . A' + Q \n",
        "\n",
        "Kk = Pk . H' (H . Pk . H' + R)^(-1) i.e. Kalman gains\n",
        "\n",
        "xk = xk + Kk(zk - H . xk) \n",
        "\n",
        "Pk = Pk (I - Kk . H)"
      ]
    },
    {
      "cell_type": "code",
      "metadata": {
        "id": "WV5vYTCw7jvW"
      },
      "source": [
        "for n in range(len(measurements[0])):\n",
        " \n",
        "    # Time Update (Prediction)\n",
        "    # ========================\n",
        "    # Project the state ahead\n",
        "    x = A*x\n",
        "    \n",
        "    # Project the error covariance ahead\n",
        "    P = A*P*A.T + Q\n",
        "    \n",
        "    \n",
        "    # Measurement Update (Correction)\n",
        "    # ===============================\n",
        "    # Compute the Kalman Gain\n",
        "    S = H*P*H.T + R\n",
        "    K = (P*H.T) * np.linalg.pinv(S)\n",
        "\n",
        "    \n",
        "    # Update the estimate via z\n",
        "    Z = measurements[:,n].reshape(2,1)\n",
        "    y = Z - (H*x)                            # Innovation or Residual\n",
        "    x = x + (K*y)\n",
        "    \n",
        "    # Update the error covariance\n",
        "    P = (I - (K*H))*P\n",
        "    \n",
        "    \n",
        "    \n",
        "    # Save states (for Plotting)\n",
        "    savestates(x, Z, P, R, K)"
      ],
      "execution_count": null,
      "outputs": []
    },
    {
      "cell_type": "markdown",
      "metadata": {
        "id": "oXCV6XIR9JRX"
      },
      "source": [
        "# Performance Analysis"
      ]
    },
    {
      "cell_type": "markdown",
      "metadata": {
        "id": "L_Mh5ZvM9VID"
      },
      "source": [
        "Kalman Gains"
      ]
    },
    {
      "cell_type": "code",
      "metadata": {
        "id": "FB-n0rSJ7v5p"
      },
      "source": [
        "def plot_K():\n",
        "    fig = plt.figure(figsize=(16,9))\n",
        "    plt.plot(range(len(measurements[0])),Kx, label='Kalman Gain for $x$')\n",
        "    plt.plot(range(len(measurements[0])),Ky, label='Kalman Gain for $y$')\n",
        "    plt.plot(range(len(measurements[0])),Kdx, label='Kalman Gain for $\\dot x$')\n",
        "    plt.plot(range(len(measurements[0])),Kdy, label='Kalman Gain for $\\dot y$')\n",
        "\n",
        "    plt.xlabel('Filter Step')\n",
        "    plt.ylabel('')\n",
        "    plt.title('Kalman Gain (the lower, the better the measurement fulfills the prediction)')\n",
        "    plt.legend(loc='best',prop={'size':22})"
      ],
      "execution_count": null,
      "outputs": []
    },
    {
      "cell_type": "code",
      "metadata": {
        "id": "sS-ZugOH9L2X"
      },
      "source": [
        "plot_K()"
      ],
      "execution_count": null,
      "outputs": []
    },
    {
      "cell_type": "markdown",
      "metadata": {
        "id": "GVoIkTO89XJm"
      },
      "source": [
        "Uncertainty Matrix"
      ]
    },
    {
      "cell_type": "code",
      "metadata": {
        "id": "orYSUiTw9Nra"
      },
      "source": [
        "def plot_P():\n",
        "    fig = plt.figure(figsize=(16,9))\n",
        "    plt.plot(range(len(measurements[0])),Px, label='$x$')\n",
        "    plt.plot(range(len(measurements[0])),Py, label='$y$')\n",
        "    plt.plot(range(len(measurements[0])),Pdx, label='$\\dot x$')\n",
        "    plt.plot(range(len(measurements[0])),Pdy, label='$\\dot y$')\n",
        "\n",
        "    plt.xlabel('Filter Step')\n",
        "    plt.ylabel('')\n",
        "    plt.title('Uncertainty (Elements from Matrix $P$)')\n",
        "    plt.legend(loc='best',prop={'size':22})"
      ],
      "execution_count": null,
      "outputs": []
    },
    {
      "cell_type": "code",
      "metadata": {
        "id": "DzE1FkU99WtZ"
      },
      "source": [
        "plot_P()"
      ],
      "execution_count": null,
      "outputs": []
    },
    {
      "cell_type": "markdown",
      "metadata": {
        "id": "0jTFW1aH9ilE"
      },
      "source": [
        "State estimate (x)"
      ]
    },
    {
      "cell_type": "code",
      "metadata": {
        "id": "Eon-tjgj9aPn"
      },
      "source": [
        "def plot_x():\n",
        "    fig = plt.figure(figsize=(16,9))\n",
        "    plt.step(range(len(measurements[0])),dxt, label='$\\dot x$')\n",
        "    plt.step(range(len(measurements[0])),dyt, label='$\\dot y$')\n",
        "\n",
        "    plt.axhline(vx, color='#999999', label='$\\dot x_{real}$')\n",
        "    plt.axhline(vy, color='#999999', label='$\\dot y_{real}$')\n",
        "\n",
        "    plt.xlabel('Filter Step')\n",
        "    plt.title('Estimate (Elements from State Vector $x$)')\n",
        "    plt.legend(loc='best',prop={'size':22})\n",
        "    plt.ylim([0, 30])\n",
        "    plt.ylabel('Velocity')"
      ],
      "execution_count": null,
      "outputs": []
    },
    {
      "cell_type": "code",
      "metadata": {
        "id": "fYF009F69gKr"
      },
      "source": [
        "plot_x()"
      ],
      "execution_count": null,
      "outputs": []
    },
    {
      "cell_type": "markdown",
      "metadata": {
        "id": "6x8Pk_Oz9n3k"
      },
      "source": [
        "Position"
      ]
    },
    {
      "cell_type": "code",
      "metadata": {
        "id": "dk4M_IyP9h6j"
      },
      "source": [
        "def plot_xy():\n",
        "    fig = plt.figure(figsize=(16,16))\n",
        "    plt.scatter(xt,yt, s=20, label='State', c='k')\n",
        "    plt.scatter(xt[0],yt[0], s=100, label='Start', c='g')\n",
        "    plt.scatter(xt[-1],yt[-1], s=100, label='Goal', c='r')\n",
        "\n",
        "    plt.xlabel('X')\n",
        "    plt.ylabel('Y')\n",
        "    plt.title('Position')\n",
        "    plt.legend(loc='best')\n",
        "    plt.axis('equal')"
      ],
      "execution_count": null,
      "outputs": []
    },
    {
      "cell_type": "code",
      "metadata": {
        "id": "p6eU9hMq9o6o"
      },
      "source": [
        "plot_xy()"
      ],
      "execution_count": null,
      "outputs": []
    },
    {
      "cell_type": "code",
      "metadata": {
        "id": "QfQS_ice9qlg"
      },
      "source": [
        ""
      ],
      "execution_count": null,
      "outputs": []
    }
  ]
}